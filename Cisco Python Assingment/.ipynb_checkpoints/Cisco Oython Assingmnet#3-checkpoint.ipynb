{
 "cells": [
  {
   "cell_type": "markdown",
   "metadata": {},
   "source": [
    "# 1. Make a calculator using Python with addition , subtraction , multiplication , division and power."
   ]
  },
  {
   "cell_type": "code",
   "execution_count": 1,
   "metadata": {},
   "outputs": [
    {
     "name": "stdout",
     "output_type": "stream",
     "text": [
      "1. Addition\n",
      "2. Subtraction\n",
      "3. Multiplication\n",
      "4. Division\n",
      "5.Power\n",
      "6. Exit\n",
      "Enter your choice: 5\n",
      "Enter two numbers: \n",
      "2\n",
      "4\n",
      "2.0  to the power of  4.0  is =  16.0\n"
     ]
    }
   ],
   "source": [
    "print(\"1. Addition\");\n",
    "print(\"2. Subtraction\");\n",
    "print(\"3. Multiplication\");\n",
    "print(\"4. Division\");\n",
    "print(\"5.Power\");\n",
    "print(\"6. Exit\");\n",
    "choice = int(input(\"Enter your choice: \"));\n",
    "if (choice>=1 and choice<=5):\n",
    "    print(\"Enter two numbers: \");\n",
    "    num1 = float(input());\n",
    "    num2 = float(input());\n",
    "    if choice == 1:\n",
    "        res = num1 + num2;\n",
    "        print(\"Result = \", res);\n",
    "    elif choice == 2:\n",
    "        res = num1 - num2;\n",
    "        print(\"Result = \", res);\n",
    "    elif choice == 3:\n",
    "        res = num1 * num2;\n",
    "        print(\"Result = \", res);\n",
    "    elif choice == 4:\n",
    "        res = num1 / num2;\n",
    "        print(\"Result = \", res);\n",
    "    else:\n",
    "        res=num1**num2\n",
    "        print (num1, \" to the power of \", num2, \" is = \", res)\n",
    "elif choice == 6:\n",
    "    exit();\n",
    "else:\n",
    "    print(\"Wrong input..!!\");"
   ]
  },
  {
   "cell_type": "markdown",
   "metadata": {},
   "source": [
    "# 2. Write a program to check if there is any numeric value in list using for loop\n"
   ]
  },
  {
   "cell_type": "code",
   "execution_count": 3,
   "metadata": {},
   "outputs": [
    {
     "name": "stdout",
     "output_type": "stream",
     "text": [
      "List contain numeric value\n"
     ]
    }
   ],
   "source": [
    "list_1=['1','abb','2','5','My','8']\n",
    "for i in list_1:\n",
    "    a = i.isnumeric()\n",
    "    if a == True:\n",
    "        print(\"List contain numeric value\")\n",
    "        break\n",
    "    else:\n",
    "        print(\"List not contain any numeric value\")\n",
    "        break"
   ]
  },
  {
   "cell_type": "markdown",
   "metadata": {},
   "source": [
    "# 3. Write a Python script to add a key to a dictionary"
   ]
  },
  {
   "cell_type": "code",
   "execution_count": 4,
   "metadata": {},
   "outputs": [
    {
     "name": "stdout",
     "output_type": "stream",
     "text": [
      "Current Dictionary is:  {'First Name': 'Mohammad', 'Middle Name': 'Furqan'}\n",
      "Updated Dict is:  {'First Name': 'Mohammad', 'Middle Name': 'Furqan', 'Last Name': 'Khurshid'}\n"
     ]
    }
   ],
   "source": [
    "dict = {'First Name':'Mohammad', 'Middle Name':'Furqan'} \n",
    "print(\"Current Dictionary is: \", dict) \n",
    "   \n",
    "dict['Last Name'] = 'Khurshid'\n",
    "print(\"Updated Dict is: \", dict)"
   ]
  },
  {
   "cell_type": "markdown",
   "metadata": {},
   "source": [
    "# 4. Write a Python program to sum all the numeric items in a dictionary"
   ]
  },
  {
   "cell_type": "code",
   "execution_count": null,
   "metadata": {},
   "outputs": [],
   "source": [
    "dict = {'a': 100, 'b':200, 'c':300}  \n",
    "sum = 0\n",
    "\n",
    "for i in dict.values(): \n",
    "    sum = sum + i\n",
    "\n",
    "print(\"The sum of numeric items in dictionary  {} is {}\".format(dict,sum))"
   ]
  },
  {
   "cell_type": "markdown",
   "metadata": {},
   "source": [
    "# 5. Write a program to identify duplicate values from list"
   ]
  },
  {
   "cell_type": "code",
   "execution_count": 5,
   "metadata": {},
   "outputs": [
    {
     "name": "stdout",
     "output_type": "stream",
     "text": [
      "There are duplicates in this list\n",
      "list of duplicates is :  [3, 9, 12]\n"
     ]
    }
   ],
   "source": [
    "list3 = [ 3, 6, 9, 12, 3, 30, 15, 9, 45, 36, 12, 12]\n",
    "unique = set(list3)  \n",
    "for n in unique:  \n",
    "    count = list3.count(n)  \n",
    "    if count > 1:  \n",
    "        print ('There are duplicates in this list')  \n",
    "        \n",
    "        duplicate = []\n",
    "        uniq = {}\n",
    "        for x in list3:\n",
    "            if x not in uniq:\n",
    "                uniq[x] = 1\n",
    "            else:\n",
    "                if uniq[x] == 1:\n",
    "                    duplicate.append(x)\n",
    "                uniq[x] += 1\n",
    "        print(\"list of duplicates is : \" ,duplicate)\n",
    "        break\n",
    "    else:\n",
    "        print ('There are no duplicates in this list')  \n",
    "        break"
   ]
  },
  {
   "cell_type": "markdown",
   "metadata": {},
   "source": [
    "# 6. Write a Python script to check if a given key already exists in a dictionary"
   ]
  },
  {
   "cell_type": "code",
   "execution_count": 6,
   "metadata": {},
   "outputs": [
    {
     "name": "stdout",
     "output_type": "stream",
     "text": [
      "Enter a key of dictionary :twenty\n",
      "Key is present in the dictionary\n"
     ]
    }
   ],
   "source": [
    "dict2 = {'ten': 10, 'twenty': 20, 'thirty': 30, 'forty': 40, 'fifty': 50, 'sixty': 60}\n",
    "x = input(\"Enter a key of dictionary :\")\n",
    "if x in dict2:\n",
    "    print('Key is present in the dictionary')\n",
    "else:\n",
    "    print('Key is not present in the dictionary')"
   ]
  }
 ],
 "metadata": {
  "kernelspec": {
   "display_name": "Python 3",
   "language": "python",
   "name": "python3"
  },
  "language_info": {
   "codemirror_mode": {
    "name": "ipython",
    "version": 3
   },
   "file_extension": ".py",
   "mimetype": "text/x-python",
   "name": "python",
   "nbconvert_exporter": "python",
   "pygments_lexer": "ipython3",
   "version": "3.7.3"
  }
 },
 "nbformat": 4,
 "nbformat_minor": 2
}
