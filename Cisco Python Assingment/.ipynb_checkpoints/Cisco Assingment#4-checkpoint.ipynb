{
 "cells": [
  {
   "cell_type": "markdown",
   "metadata": {},
   "source": [
    "# Question1:\n",
    "# Use a dictionary to store information about a person you know. Store their first name, last name, age,and the city in which they live. You should have keys such as first_name, last_name, age, and city. Print each piece of information stored in your dictionary. Add a new key value pair about qualification then update the qualification value to high academic level then delete it."
   ]
  },
  {
   "cell_type": "code",
   "execution_count": 55,
   "metadata": {},
   "outputs": [
    {
     "name": "stdout",
     "output_type": "stream",
     "text": [
      "Anas \n",
      " Khan \n",
      " 23 \n",
      " Karachi\n"
     ]
    }
   ],
   "source": [
    "Person={'First_name': 'Anas',\n",
    "       'Last_name': 'Khan',\n",
    "       'Age':23,\n",
    "       'City':'Karachi'}\n",
    "print(       Person[\"First_name\"],\n",
    "    '\\n', Person[\"Last_name\"],\n",
    "    '\\n', Person['Age'],\n",
    "    '\\n', Person['City'])\n",
    "    "
   ]
  },
  {
   "cell_type": "markdown",
   "metadata": {},
   "source": [
    "# Question2:\n",
    "# Make a dictionary called cities. Use the names of three cities as keys in your dictionary. Create a dictionary of information about each city and include the country that the city is in, its approximate population, and one fact about that city. The keys for each city’s dictionary should be something like country, population, and fact. Print the name of each city and all of the information you have stored about it."
   ]
  },
  {
   "cell_type": "code",
   "execution_count": 9,
   "metadata": {},
   "outputs": [
    {
     "name": "stdout",
     "output_type": "stream",
     "text": [
      "\n",
      "1. Karachi is the city of Pakistan.\n",
      "  It has a population of about 216,565,318.\n",
      "  The fact about Karachi is that Karachi is vital to Pakistan's economy\n",
      "\n",
      "2. Dehli is the city of India.\n",
      "  It has a population of about 29.596 Million.\n",
      "  The fact about Dehli is that  World's tallest brick minaret the Qutub Minar is in Delhi\n",
      "\n",
      "3. Paris is the city of France.\n",
      "  It has a population of about 66.99 million .\n",
      "  The fact about Paris is that Paris was originally a Roman City called “Lutetia.\n"
     ]
    }
   ],
   "source": [
    "cities={\n",
    "    'Karachi': {'country':'Pakistan',\n",
    "               'population':'216,565,318',\n",
    "               'fact':\"Karachi is vital to Pakistan's economy\"\n",
    "               },\n",
    "    \"Dehli\" : {'country':'India',\n",
    "             'population':'29.596 Million',\n",
    "             'fact':\" World's tallest brick minaret the Qutub Minar is in Delhi\"\n",
    "            },\n",
    "    'Paris':{'country':'France',\n",
    "             'population':'66.99 million ',\n",
    "             'fact':\"Paris was originally a Roman City called “Lutetia.\"\n",
    "            }\n",
    "}\n",
    "\n",
    "#for info in cities.items():\n",
    "    #print('First city is',Karachi['Country'],'its population is',Karachi['Population'],'and unique fact is'Karachi['Fact'].)\n",
    "n=0\n",
    "for city, info in cities.items():\n",
    "    country = info['country'].title()\n",
    "    population = info['population']\n",
    "    fact = info['fact']\n",
    "    n+=1\n",
    "\n",
    "    print(\"\\n\"+ str(n) + \". \" + city.title() + \" is the city of \" + country + \".\")\n",
    "    print(\"  It has a population of about \" + str(population) + \".\")\n",
    "    print(\"  The fact about \" + city.title() + \" is that \"+ fact )    \n",
    "            "
   ]
  },
  {
   "cell_type": "code",
   "execution_count": null,
   "metadata": {},
   "outputs": [],
   "source": []
  },
  {
   "cell_type": "markdown",
   "metadata": {},
   "source": [
    "# Question3:\n",
    "# A movie theater charges different ticket prices depending on a person’s age. If a person is under the ageof 3, the ticket is free; if they are between 3 and 12, the ticket is $10; and if they are over age 12, theticket is $15. Write a loop in which you ask users their age, and then tell them the cost of their movie ticket."
   ]
  },
  {
   "cell_type": "code",
   "execution_count": null,
   "metadata": {},
   "outputs": [
    {
     "name": "stdout",
     "output_type": "stream",
     "text": [
      "What's your Age ?17\n",
      "The ticket price is 15$\n",
      "What's your Age ?18\n",
      "The ticket price is 15$\n",
      "What's your Age ?5\n",
      "The ticket price is 10$\n",
      "What's your Age ?2\n",
      "Your ticket is free\n"
     ]
    }
   ],
   "source": [
    "\n",
    "\n",
    "while True:\n",
    "    age=int(input(\"What's your Age ?\"))\n",
    "    \n",
    "\n",
    "    if (age < 3):\n",
    "        print(\"Your ticket is free\")\n",
    "        \n",
    "    elif (age < 13):\n",
    "        print(\"The ticket price is 10$\")\n",
    "    elif (age > 12):\n",
    "        print(\"The ticket price is 15$\")\n",
    "        \n",
    "   \n",
    "    \n",
    "    \n",
    "        "
   ]
  },
  {
   "cell_type": "markdown",
   "metadata": {},
   "source": [
    "# 4. Write a function called favorite_book() that accepts one parameter, title. The function should print a message, such as One of my favorite books is Alice in Wonderland. Call the function, making sure to include a book title as an argument in the function call."
   ]
  },
  {
   "cell_type": "code",
   "execution_count": 3,
   "metadata": {},
   "outputs": [
    {
     "name": "stdout",
     "output_type": "stream",
     "text": [
      "one of my favourite book is Alice in Wonderland\n"
     ]
    }
   ],
   "source": [
    "def favourite_book(title):\n",
    "    print('one of my favourite book is',title)\n",
    "favourite_book('Alice in Wonderland')"
   ]
  },
  {
   "cell_type": "markdown",
   "metadata": {},
   "source": [
    "# 5. Guess the number game , Write a program which randomly generate a number between 1 to 30 and ask the user in input field to guess the correct number. Give three chances to user guess the number and also give hint to user if hidden number is greater or smaller than the number he given to input field"
   ]
  },
  {
   "cell_type": "code",
   "execution_count": 8,
   "metadata": {},
   "outputs": [
    {
     "name": "stdout",
     "output_type": "stream",
     "text": [
      "Guess the number betwwen 1 to 30:5\n",
      "Try higher number\n",
      "Guess the number betwwen 1 to 30:8\n",
      "Try higher number\n",
      "Guess the number betwwen 1 to 30:14\n",
      "Try lower number\n",
      "You Loose\n"
     ]
    }
   ],
   "source": [
    "import random\n",
    "random=random.randint(1,30)\n",
    "\n",
    "for n in range (3):\n",
    "    guess=input('Guess the number betwwen 1 to 30:')\n",
    "    i = int(guess)\n",
    "    if i==random:\n",
    "        print('Congratulation You Win ')\n",
    "        break\n",
    "    elif i < random:\n",
    "        print('Try higher number')\n",
    "    \n",
    "    elif i > random:\n",
    "        \n",
    "        print('Try lower number')\n",
    "     \n",
    "else:\n",
    "    print('You Loose')\n",
    "    "
   ]
  }
 ],
 "metadata": {
  "kernelspec": {
   "display_name": "Python 3",
   "language": "python",
   "name": "python3"
  },
  "language_info": {
   "codemirror_mode": {
    "name": "ipython",
    "version": 3
   },
   "file_extension": ".py",
   "mimetype": "text/x-python",
   "name": "python",
   "nbconvert_exporter": "python",
   "pygments_lexer": "ipython3",
   "version": "3.7.3"
  }
 },
 "nbformat": 4,
 "nbformat_minor": 2
}
