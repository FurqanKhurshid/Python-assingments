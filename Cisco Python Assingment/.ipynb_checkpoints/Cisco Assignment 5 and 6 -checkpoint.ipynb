{
 "cells": [
  {
   "cell_type": "markdown",
   "metadata": {},
   "source": [
    "# Assingment#5\n"
   ]
  },
  {
   "cell_type": "markdown",
   "metadata": {},
   "source": [
    "# 1. Write a Python function to calculate the factorial of a number (a non-negative integer). The function accepts the number as an argument."
   ]
  },
  {
   "cell_type": "code",
   "execution_count": 1,
   "metadata": {},
   "outputs": [
    {
     "name": "stdout",
     "output_type": "stream",
     "text": [
      "Input a number to calculate the factiorial : 5\n",
      "The factorial of 5 is 2040\n"
     ]
    }
   ],
   "source": [
    "def factorial(n):\n",
    "    if n < 0:\n",
    "        print(\"Sorry, factorial does not exist for negative numbers\")\n",
    "    elif n == 0:\n",
    "        print(\"The factorial of 0 is 1\")\n",
    "    else:\n",
    "        fact=17\n",
    "        \n",
    "        for i in range(1,n + 1):\n",
    "            fact = fact*i\n",
    "        print(\"The factorial of\",n,\"is\",fact)\n",
    "#>>>>>>>>>>>>>>>>>>>>>>>>>>>>>>>>>>>>>>>>>>>>>>>>>>>>>>>>>>>>>>>\n",
    "\n",
    "n=int(input(\"Input a number to calculate the factiorial : \"))\n",
    "factorial(n)"
   ]
  },
  {
   "cell_type": "markdown",
   "metadata": {},
   "source": [
    "# 2. Write a Python function that accepts a string and calculate the number of upper case letters and lower case letters."
   ]
  },
  {
   "cell_type": "code",
   "execution_count": 2,
   "metadata": {},
   "outputs": [
    {
     "name": "stdout",
     "output_type": "stream",
     "text": [
      "Enter text to calculate number of upper and lower case letters : Mohammad Furqan Khurshid\n",
      "Number of upper case letters : 3 \n",
      "Number of lower case letters : 19 \n"
     ]
    }
   ],
   "source": [
    "def letters_counter(n):\n",
    "    upper=0\n",
    "    lower=0\n",
    "    n=n.replace(\" \",\"\") # using .replace() method to ignore whitespaces otherwise it will count spaces\n",
    "    for i in  range(len(n)):\n",
    "        if (n[i].isupper()):\n",
    "            upper += 1\n",
    "        else:\n",
    "            (n[i].islower())\n",
    "            lower += 1\n",
    "    print(\"Number of upper case letters : {} \\nNumber of lower case letters : {} \".format(upper,lower))        \n",
    "#>>>>>>>>>>>>>>>>>>>>>>>>>>>>>>>>>>>>>>>>>>>>>>>>>>>>>>>>>>>>>>>>>>>>>>>>>>>>>>>>\n",
    "\n",
    "user_input=(input(\"Enter text to calculate number of upper and lower case letters : \"))    \n",
    "letters_counter(user_input)"
   ]
  },
  {
   "cell_type": "markdown",
   "metadata": {},
   "source": [
    "# 3. Write a Python function to print the even numbers from a given list."
   ]
  },
  {
   "cell_type": "code",
   "execution_count": 3,
   "metadata": {},
   "outputs": [
    {
     "name": "stdout",
     "output_type": "stream",
     "text": [
      "Even numbers in given list : \n",
      "2\n",
      "4\n",
      "6\n",
      "8\n",
      "10\n",
      "12\n",
      "14\n",
      "16\n"
     ]
    }
   ],
   "source": [
    "def print_even(i):\n",
    "    num = i % 2  \n",
    "    if(num == 0):\n",
    "        print(i)\n",
    "#>>>>>>>>>>>>>>>>>>>>>>>>>>>>>>>>>>>>>>>>>>>>>>>>>>>\n",
    "\n",
    "numbers_list=[1,2,3,4,5,6,7,8,9,10,11,12,13,14,15,16]\n",
    "print(\"Even numbers in given list : \")\n",
    "for n in numbers_list:\n",
    "    print_even(n)"
   ]
  },
  {
   "cell_type": "markdown",
   "metadata": {},
   "source": [
    "# 4. Write a Python function that checks whether a passed string is palindrome or not. Note: A palindrome is a word, phrase, or sequence that reads the same backward as forward, e.g., madam"
   ]
  },
  {
   "cell_type": "code",
   "execution_count": 5,
   "metadata": {},
   "outputs": [
    {
     "name": "stdout",
     "output_type": "stream",
     "text": [
      "Enter text : maham\n",
      "The text * maham * is a palindrome\n"
     ]
    }
   ],
   "source": [
    "def palindrome_checker():\n",
    "    n=input(\"Enter text : \")\n",
    "    rev_input=n[::-1]\n",
    "    if n==rev_input:\n",
    "        print(\"The text *\",n,\"* is a palindrome\") #used asterisk at beginning and end to differenciate the text\n",
    "    else:\n",
    "        print(\"The text *\",n,\"* is not a palindrome\")\n",
    "#>>>>>>>>>>>>>>>>>>>>>>>>>>>>>>>>>>>>>>>>>>>>>>>>>>>>>\n",
    "\n",
    "palindrome_checker()"
   ]
  },
  {
   "cell_type": "markdown",
   "metadata": {},
   "source": [
    "# 5. Write a Python function that takes a number as a parameter and check the number is prime or not."
   ]
  },
  {
   "cell_type": "code",
   "execution_count": 6,
   "metadata": {},
   "outputs": [
    {
     "name": "stdout",
     "output_type": "stream",
     "text": [
      "Enter number to check : 5\n",
      "5 is a prime number\n"
     ]
    }
   ],
   "source": [
    "def prime_checker():\n",
    "    num = int(input(\"Enter number to check : \")) \n",
    "    if num > 1:   \n",
    "        for i in range(2, num):\n",
    "            if (num % i) == 0: \n",
    "                print(num, \"is not a prime number\") \n",
    "                break\n",
    "        else: \n",
    "            print(num, \"is a prime number\") \n",
    "    else: \n",
    "        print(num, \"is not a prime number\")\n",
    "#>>>>>>>>>>>>>>>>>>>>>>>>>>>>>>>>>>>>>>>>>>>>>>>>>>>>>>\n",
    "\n",
    "prime_checker()"
   ]
  },
  {
   "cell_type": "markdown",
   "metadata": {},
   "source": [
    "# 6. Suppose a customer is shopping in a market and you need to print all the items which user bought from market. Write a function which accepts the multiple arguments of user shopping list and print all the items which user bought from market. (Hint: Arbitrary Argument concept can make this task ease)"
   ]
  },
  {
   "cell_type": "code",
   "execution_count": 7,
   "metadata": {},
   "outputs": [
    {
     "name": "stdout",
     "output_type": "stream",
     "text": [
      "You purchased : \n",
      "1. shampoo\n",
      "2. cooking oil\n",
      "3. fruits\n",
      "4. eggs\n",
      "5. bread\n"
     ]
    }
   ],
   "source": [
    "def bought_items(*items):\n",
    "    shopping_list = []\n",
    "    for x in items:\n",
    "        shopping_list.append(x)\n",
    "    n=0\n",
    "    print(\"You purchased : \")\n",
    "    for i in range(len(shopping_list)):\n",
    "        n+=1\n",
    "        print(\"{}. {}\".format(n,shopping_list[i]))\n",
    "#>>>>>>>>>>>>>>>>>>>>>>>>>>>>>>>>>>>>>>>>>>>>>>>>>>>>>>>>>>>>>>>>>>>>>>>>>>>>>>        \n",
    "\n",
    "bought_items(\"shampoo\",\"cooking oil\",\"fruits\",\"eggs\",\"bread\")"
   ]
  },
  {
   "cell_type": "code",
   "execution_count": 8,
   "metadata": {},
   "outputs": [
    {
     "name": "stdout",
     "output_type": "stream",
     "text": [
      "Enter bought item \n",
      "Enter 'q' to Quit : cooking oil\n",
      "Enter bought item \n",
      "Enter 'q' to Quit : shampoo\n",
      "Enter bought item \n",
      "Enter 'q' to Quit : crockery\n",
      "Enter bought item \n",
      "Enter 'q' to Quit : rice\n",
      "Enter bought item \n",
      "Enter 'q' to Quit : biscuits\n",
      "Enter bought item \n",
      "Enter 'q' to Quit : q\n",
      "You purchased : \n",
      "1. cooking oil\n",
      "2. shampoo\n",
      "3. crockery\n",
      "4. rice\n",
      "5. biscuits\n"
     ]
    }
   ],
   "source": [
    "def bought_items():\n",
    "    shopping_list = []\n",
    "    while True:\n",
    "        user_input = input('''Enter bought item \\nEnter 'q' to Quit : ''')\n",
    "        if user_input != 'q':\n",
    "            shopping_list.append(user_input)\n",
    "        else:\n",
    "            break\n",
    "    n=0\n",
    "    print(\"You purchased : \")\n",
    "    for i in range(len(shopping_list)):\n",
    "        n+=1\n",
    "        print(\"{}. {}\".format(n,shopping_list[i]))\n",
    "#>>>>>>>>>>>>>>>>>>>>>>>>>>>>>>>>>>>>>>>>>>>>>>>>>>>>>>>>>>>>>>>>>>>>>>>>>>>>>>        \n",
    "\n",
    "bought_items()"
   ]
  },
  {
   "cell_type": "markdown",
   "metadata": {},
   "source": [
    "# Assingment#6"
   ]
  },
  {
   "cell_type": "markdown",
   "metadata": {},
   "source": [
    "# Question 1: Define Object Oriented Programming Language?"
   ]
  },
  {
   "cell_type": "markdown",
   "metadata": {},
   "source": [
    "Definition : One of the popular approach to solve a programming problem is by creating objects. This is known as Object-Oriented Programming (OOP)."
   ]
  },
  {
   "cell_type": "markdown",
   "metadata": {},
   "source": [
    "# Question 2: List down the Benefits of OOP?"
   ]
  },
  {
   "cell_type": "markdown",
   "metadata": {},
   "source": [
    "\n",
    "Some benefits of OOP are listed below :\n",
    "\n",
    "1.It helps to model real life problem.\n",
    "\n",
    "2.Development is faster and cheaper, with better software maintainability.\n",
    "\n",
    "3.It provides a simple way to solve complex problems.\n",
    "\n",
    "4.This, in turn, leads to higher-quality software, which is also extensible with new methods and attributes.\n",
    "\n",
    "5.It helps in polymorphism, relates with many object.\n",
    "\n",
    "6.OOP offers easy to understand and a clear modular structure for programs.\n",
    "\n",
    "7.Objects created for Object-Oriented Programs can be reused in other programs.Thus it saves significant development cost.\n",
    "\n",
    "8.Large programs are difficult to write, but if the development and designing team follow OOPS concept then they can better design with minimum flaws.\n",
    "\n",
    "9.It also enhances program modularity because every object exists independently."
   ]
  },
  {
   "cell_type": "markdown",
   "metadata": {},
   "source": [
    "# Question 3: Differentiate between function and method?"
   ]
  },
  {
   "cell_type": "markdown",
   "metadata": {},
   "source": [
    "# Function:"
   ]
  },
  {
   "cell_type": "markdown",
   "metadata": {},
   "source": [
    "A function is independent of an object . A function is a piece of code that is called by name. It can be passed data to operate on (i.e. the parameters) and can optionally return data (the return value). All data that is passed to a function is explicitly passed."
   ]
  },
  {
   "cell_type": "markdown",
   "metadata": {},
   "source": [
    "# Method:"
   ]
  },
  {
   "cell_type": "markdown",
   "metadata": {},
   "source": [
    "A method is on an object . A method is a piece of code that is called by a name that is associated with an object. In most respects it is identical to a function except for two key differences:\n",
    "\n",
    "1.A method is implicitly passed the object on which it was called.\n",
    "\n",
    "2.A method is able to operate on data that is contained within the class (remembering that an object is an instance of a class - the class is the definition, the object is an instance of that data)."
   ]
  },
  {
   "cell_type": "markdown",
   "metadata": {},
   "source": [
    "# Question 4: Define the following terms:\n",
    "1.Class\n",
    "\n",
    "2.Object\n",
    "\n",
    "3.Attribute\n",
    "\n",
    "4.Behavior"
   ]
  },
  {
   "cell_type": "markdown",
   "metadata": {},
   "source": [
    "# 1.Class:"
   ]
  },
  {
   "cell_type": "markdown",
   "metadata": {},
   "source": [
    "A class is a user defined blueprint or prototype from which objects are created. It represents the set of properties or methods that are common to all objects of one type."
   ]
  },
  {
   "cell_type": "markdown",
   "metadata": {},
   "source": [
    "# 2.Object:"
   ]
  },
  {
   "cell_type": "markdown",
   "metadata": {},
   "source": [
    "A unique instance of a data structure that's defined by its class. An object comprises both data members (class variables and instance variables) and methods."
   ]
  },
  {
   "cell_type": "markdown",
   "metadata": {},
   "source": [
    "# 3.Attribute:"
   ]
  },
  {
   "cell_type": "markdown",
   "metadata": {},
   "source": [
    "An attribute in a class is a variable that is attached to the class."
   ]
  },
  {
   "cell_type": "markdown",
   "metadata": {},
   "source": [
    "# 4.Behaviour:"
   ]
  },
  {
   "cell_type": "markdown",
   "metadata": {},
   "source": [
    "It is represented by methods of an object. It also reflects the response of an object with other objects."
   ]
  },
  {
   "cell_type": "markdown",
   "metadata": {},
   "source": [
    "# Question 5: Write a code in python in which create a class named it Car which have 5 attributes such like (model, color and name etc.) and 3 methods. And create 5 object instance from that class."
   ]
  },
  {
   "cell_type": "code",
   "execution_count": 12,
   "metadata": {},
   "outputs": [],
   "source": [
    "class Car():\n",
    "    def __init__(self, brand, name, color, model, seatingCapacity):        \n",
    "        #Attributes >>>>>>>>>>>>>>>>>>>>>>>>>>>\n",
    "        self.brand = brand\n",
    "        self.name = name\n",
    "        self.color = color\n",
    "        self.model = model\n",
    "        self.seatingCapacity = seatingCapacity\n",
    "        #####################################\n",
    "        \n",
    "        #Methods>>>>>>>>>>>>>>>>>>>>>>>>>>>>>>>>\n",
    "    def CarDescription(self):\n",
    "        print(f\"The Brand of the car is {self.brand}\")\n",
    "        print(f\"The Name of the car is {self.name}\")\n",
    "        print(f\"The Color of the car is {self.color}\")\n",
    "        print(f\"The Model of the car is {self.model}\")\n",
    "        print(f\"The Seating Capacity of the car is {self.seatingCapacity}\")\n",
    "            \n",
    "    def moving(self):\n",
    "        print(f\"{self.name} is moving with speed\")\n",
    "            \n",
    "    def Applying_break(self):\n",
    "        print(f\"{self.name} is applying breakes\")\n",
    "        ######################################################\n",
    "        ######################################################\n",
    "        \n",
    "#Objects>>>>>>>>>>>>>>>>>>>>>>>>>>>>>>>>>>>>>>>>>>>\n",
    "car1 = Car('Honda','Civic','Black','2019','4')\n",
    "car2 = Car('Toyota','Corolla','White','2018','4')\n",
    "car3 = Car('Suzuki','Cultus','Blue','2014','4')\n",
    "car4 = Car('Honda','Vesel','Gray','2019','4')\n",
    "car5 = Car('Toyota','Prius','Black','2019','4')\n",
    "#####################################################"
   ]
  },
  {
   "cell_type": "code",
   "execution_count": 13,
   "metadata": {},
   "outputs": [
    {
     "name": "stdout",
     "output_type": "stream",
     "text": [
      "The Brand of the car is Honda\n",
      "The Name of the car is Civic\n",
      "The Color of the car is Black\n",
      "The Model of the car is 2019\n",
      "The Seating Capacity of the car is 4\n",
      "Civic is moving with speed\n",
      "Civic is applying breakes\n"
     ]
    }
   ],
   "source": [
    "car1.CarDescription()\n",
    "car1.moving()\n",
    "car1.Applying_break()"
   ]
  },
  {
   "cell_type": "code",
   "execution_count": 14,
   "metadata": {},
   "outputs": [
    {
     "name": "stdout",
     "output_type": "stream",
     "text": [
      "The Brand of the car is Toyota\n",
      "The Name of the car is Corolla\n",
      "The Color of the car is White\n",
      "The Model of the car is 2018\n",
      "The Seating Capacity of the car is 4\n",
      "Corolla is moving with speed\n",
      "Corolla is applying breakes\n"
     ]
    }
   ],
   "source": [
    "car2.CarDescription()\n",
    "car2.moving()\n",
    "car2.Applying_break()"
   ]
  },
  {
   "cell_type": "code",
   "execution_count": 15,
   "metadata": {},
   "outputs": [
    {
     "name": "stdout",
     "output_type": "stream",
     "text": [
      "The Brand of the car is Suzuki\n",
      "The Name of the car is Cultus\n",
      "The Color of the car is Blue\n",
      "The Model of the car is 2014\n",
      "The Seating Capacity of the car is 4\n",
      "Cultus is moving with speed\n",
      "Cultus is applying breakes\n"
     ]
    }
   ],
   "source": [
    "car3.CarDescription()\n",
    "car3.moving()\n",
    "car3.Applying_break()"
   ]
  },
  {
   "cell_type": "code",
   "execution_count": 18,
   "metadata": {},
   "outputs": [
    {
     "name": "stdout",
     "output_type": "stream",
     "text": [
      "The Brand of the car is Honda\n",
      "The Name of the car is Vesel\n",
      "The Color of the car is Gray\n",
      "The Model of the car is 2019\n",
      "The Seating Capacity of the car is 4\n",
      "Vesel is moving with speed\n",
      "Vesel is applying breakes\n"
     ]
    }
   ],
   "source": [
    "car4.CarDescription()\n",
    "car4.moving()\n",
    "car4.Applying_break()"
   ]
  },
  {
   "cell_type": "code",
   "execution_count": 19,
   "metadata": {},
   "outputs": [
    {
     "name": "stdout",
     "output_type": "stream",
     "text": [
      "The Brand of the car is Toyota\n",
      "The Name of the car is Prius\n",
      "The Color of the car is Black\n",
      "The Model of the car is 2019\n",
      "The Seating Capacity of the car is 4\n",
      "Prius is moving with speed\n",
      "Prius is applying breakes\n"
     ]
    }
   ],
   "source": [
    "car5.CarDescription()\n",
    "car5.moving()\n",
    "car5.Applying_break()"
   ]
  }
 ],
 "metadata": {
  "kernelspec": {
   "display_name": "Python 3",
   "language": "python",
   "name": "python3"
  },
  "language_info": {
   "codemirror_mode": {
    "name": "ipython",
    "version": 3
   },
   "file_extension": ".py",
   "mimetype": "text/x-python",
   "name": "python",
   "nbconvert_exporter": "python",
   "pygments_lexer": "ipython3",
   "version": "3.7.3"
  }
 },
 "nbformat": 4,
 "nbformat_minor": 2
}
