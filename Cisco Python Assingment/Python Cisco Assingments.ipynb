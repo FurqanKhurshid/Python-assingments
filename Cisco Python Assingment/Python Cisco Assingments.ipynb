{
 "cells": [
  {
   "cell_type": "markdown",
   "metadata": {},
   "source": [
    "# Assingment#1\n",
    "# 1. Write a Python program to print the following string in a specific format\n",
    "## (see the output).\n",
    "     Twinkle, twinkle, little star,\n",
    "         How I wonder what you are!\n",
    "                 Up above the world so high,\n",
    "                 Like a diamond in the sky.\n",
    "     Twinkle, twinkle, little star,\n",
    "         How I wonder what you are!\n",
    "           "
   ]
  },
  {
   "cell_type": "code",
   "execution_count": 3,
   "metadata": {},
   "outputs": [
    {
     "name": "stdout",
     "output_type": "stream",
     "text": [
      "Twinkle, twinkle, little star, \n",
      "\tHow I wonder what you are! \n",
      "\t\tUp above the world so high, \n",
      "\t\tLike a diamond in the sky. \n",
      "Twinkle, twinkle, little star, \n",
      "\tHow I wonder what you are!\n"
     ]
    }
   ],
   "source": [
    "print(\"Twinkle, twinkle, little star, \\n\\tHow I wonder what you are! \\n\\t\\tUp above the world so high, \\n\\t\\tLike a diamond in the sky. \\nTwinkle, twinkle, little star, \\n\\tHow I wonder what you are!\")"
   ]
  },
  {
   "cell_type": "markdown",
   "metadata": {},
   "source": [
    "# 2. Write a Python program to get the Python version you are using"
   ]
  },
  {
   "cell_type": "code",
   "execution_count": 4,
   "metadata": {},
   "outputs": [
    {
     "name": "stdout",
     "output_type": "stream",
     "text": [
      "Python version that im using !!!\n",
      "3.7.3 (default, Mar 27 2019, 17:13:21) [MSC v.1915 64 bit (AMD64)]\n",
      "Version info.\n",
      "sys.version_info(major=3, minor=7, micro=3, releaselevel='final', serial=0)\n"
     ]
    }
   ],
   "source": [
    "import sys\n",
    "print(\"Python version that im using !!!\")\n",
    "print (sys.version)\n",
    "print(\"Version info.\")\n",
    "print (sys.version_info)\n"
   ]
  },
  {
   "cell_type": "markdown",
   "metadata": {},
   "source": [
    "# 3. Write a Python program to display the current date and time."
   ]
  },
  {
   "cell_type": "code",
   "execution_count": 6,
   "metadata": {},
   "outputs": [
    {
     "name": "stdout",
     "output_type": "stream",
     "text": [
      "Current date and time in am ,pm format : \n",
      "28-11-2019 03:13:01 PM\n",
      "Current date and time 24 hour format : \n",
      "2019-11-28 15:13:01\n"
     ]
    }
   ],
   "source": [
    "import datetime\n",
    "a = datetime.datetime.now()\n",
    "\n",
    "print (\"Current date and time in am ,pm format : \")\n",
    "print (a.strftime(\"%d-%m-%Y %I:%M:%S %p\"))\n",
    "\n",
    "print (\"Current date and time 24 hour format : \")\n",
    "print (a.strftime(\"%Y-%m-%d %H:%M:%S\"))"
   ]
  },
  {
   "cell_type": "markdown",
   "metadata": {},
   "source": [
    "# 4. Write a Python program which accepts the radius of a circle from the user and compute the area."
   ]
  },
  {
   "cell_type": "code",
   "execution_count": 7,
   "metadata": {},
   "outputs": [
    {
     "name": "stdout",
     "output_type": "stream",
     "text": [
      "Enter the radius of a circle6.8\n",
      "Area of the circle is : 145.19\n"
     ]
    }
   ],
   "source": [
    "pi=3.14\n",
    "radius =float (input ('Enter the radius of a circle'))\n",
    "area=pi*radius*radius\n",
    "print(\"Area of the circle is : %.2f\"  %area)"
   ]
  },
  {
   "cell_type": "markdown",
   "metadata": {},
   "source": [
    "# 5. Write a Python program which accepts the user's first and last name and print them in reverse order with a space between them."
   ]
  },
  {
   "cell_type": "code",
   "execution_count": 8,
   "metadata": {},
   "outputs": [
    {
     "name": "stdout",
     "output_type": "stream",
     "text": [
      "Enter your First Name : Furqan\n",
      "Enter your Last Name : Khurshid\n",
      "Khurshid Furqan\n"
     ]
    }
   ],
   "source": [
    "first_name = input(\"Enter your First Name : \")\n",
    "last_name = input(\"Enter your Last Name : \")\n",
    "print (last_name + \" \" + first_name)"
   ]
  },
  {
   "cell_type": "markdown",
   "metadata": {},
   "source": [
    "# 6. Write a python program which takes two inputs from user and print them addition"
   ]
  },
  {
   "cell_type": "code",
   "execution_count": 9,
   "metadata": {},
   "outputs": [
    {
     "name": "stdout",
     "output_type": "stream",
     "text": [
      "Enter first number for addition :4\n",
      "Enter second number for addition :7\n",
      "Numbers after addition : 11\n"
     ]
    }
   ],
   "source": [
    "a = int(input(\"Enter first number for addition :\"))\n",
    "b = int(input(\"Enter second number for addition :\"))\n",
    "print(\"Numbers after addition :\", a+b)"
   ]
  },
  {
   "cell_type": "markdown",
   "metadata": {},
   "source": [
    "# Assingment 2\n"
   ]
  },
  {
   "cell_type": "markdown",
   "metadata": {},
   "source": [
    "# 1. Write a program which takes 5 inputs from user for different subject’s\n",
    "# marks, total it and generate mark sheet using grades ?\n"
   ]
  },
  {
   "cell_type": "code",
   "execution_count": 2,
   "metadata": {},
   "outputs": [
    {
     "name": "stdout",
     "output_type": "stream",
     "text": [
      "Enter marks of the English: 67\n",
      "Enter marks of the Maths: 88\n",
      "Enter marks of the Pakisatn Studies: 98\n",
      "Enter marks of the Physics: 85\n",
      "Enter marks of the Chemistry: 79\n",
      "Grade: B\n"
     ]
    }
   ],
   "source": [
    "sub1=float(input(\"Enter marks of the English: \"))\n",
    "sub2=float(input(\"Enter marks of the Maths: \"))\n",
    "sub3=float(input(\"Enter marks of the Pakisatn Studies: \"))\n",
    "sub4=float(input(\"Enter marks of the Physics: \"))\n",
    "sub5=float(input(\"Enter marks of the Chemistry: \"))\n",
    "avg=float(sub1+sub2+sub3+sub4+sub4)/5\n",
    "if(avg>=90):\n",
    "\n",
    "    print(\"Grade: A\")\n",
    "\n",
    "elif(avg>=80 and avg<90):\n",
    "\n",
    "    print(\"Grade: B\")\n",
    "\n",
    "elif(avg>=70 and avg<80):\n",
    "\n",
    "    print(\"Grade: C\")\n",
    "\n",
    "elif(avg>=60 and avg<70):\n",
    "\n",
    "    print(\"Grade: D\")\n",
    "\n",
    "else:\n",
    "\n",
    "    print(\"Grade: F\")"
   ]
  },
  {
   "cell_type": "markdown",
   "metadata": {},
   "source": [
    "# 2. Write a program which take input from user and identify that the given\n",
    "# number is even or odd?"
   ]
  },
  {
   "cell_type": "code",
   "execution_count": 3,
   "metadata": {},
   "outputs": [
    {
     "name": "stdout",
     "output_type": "stream",
     "text": [
      "Enter Number5\n",
      "5 is odd\n"
     ]
    }
   ],
   "source": [
    "x=int(input(\"Enter Number\"))\n",
    "if x%2==0:\n",
    "    print(x,\"is even\")\n",
    "else:\n",
    "    print(x,\"is odd\")"
   ]
  },
  {
   "cell_type": "markdown",
   "metadata": {},
   "source": [
    "# 3. Write a program which print the length of the list?"
   ]
  },
  {
   "cell_type": "code",
   "execution_count": 4,
   "metadata": {},
   "outputs": [
    {
     "name": "stdout",
     "output_type": "stream",
     "text": [
      "The length of list is:  3\n"
     ]
    }
   ],
   "source": [
    "n = len([10, 20, 30]) \n",
    "print(\"The length of list is: \", n) "
   ]
  },
  {
   "cell_type": "markdown",
   "metadata": {},
   "source": [
    "# 4. Write a Python program to sum all the numeric items in a list?"
   ]
  },
  {
   "cell_type": "code",
   "execution_count": 5,
   "metadata": {},
   "outputs": [
    {
     "name": "stdout",
     "output_type": "stream",
     "text": [
      "15\n"
     ]
    }
   ],
   "source": [
    "def sum_list(items):\n",
    "    sum_numbers = 0\n",
    "    for x in items:\n",
    "        sum_numbers += x\n",
    "    return sum_numbers\n",
    "print(sum_list([2,5,8]))"
   ]
  },
  {
   "cell_type": "markdown",
   "metadata": {},
   "source": [
    "# 5. Write a Python program to get the largest number from a numeric list."
   ]
  },
  {
   "cell_type": "code",
   "execution_count": 6,
   "metadata": {},
   "outputs": [
    {
     "name": "stdout",
     "output_type": "stream",
     "text": [
      "Largest element is: 66\n"
     ]
    }
   ],
   "source": [
    "list1 = [12,11,44,66,25] \n",
    "print(\"Largest element is:\", max(list1)) "
   ]
  },
  {
   "cell_type": "markdown",
   "metadata": {},
   "source": [
    "# 6. Take a list, say for example this one:\n",
    "# a = [1, 1, 2, 3, 5, 8, 13, 21, 34, 55, 89]\n",
    "# and write a program that prints out all the elements of the list that are\n",
    "# less than 5."
   ]
  },
  {
   "cell_type": "code",
   "execution_count": 7,
   "metadata": {},
   "outputs": [
    {
     "name": "stdout",
     "output_type": "stream",
     "text": [
      "1\n",
      "1\n",
      "2\n",
      "3\n"
     ]
    }
   ],
   "source": [
    "a = [1, 1, 2, 3, 5, 8, 13, 21, 34, 55, 89]\n",
    "for i in a:\n",
    "    if i<5:\n",
    "        print(i)"
   ]
  },
  {
   "cell_type": "markdown",
   "metadata": {},
   "source": [
    "# Assingment#3"
   ]
  },
  {
   "cell_type": "markdown",
   "metadata": {},
   "source": [
    "# 1. Make a calculator using Python with addition , subtraction , multiplication , division and power."
   ]
  },
  {
   "cell_type": "code",
   "execution_count": 8,
   "metadata": {},
   "outputs": [
    {
     "name": "stdout",
     "output_type": "stream",
     "text": [
      "1. Addition\n",
      "2. Subtraction\n",
      "3. Multiplication\n",
      "4. Division\n",
      "5.Power\n",
      "6. Exit\n",
      "Enter your choice: 5\n",
      "Enter two numbers: \n",
      "4\n",
      "2\n",
      "4.0  to the power of  2.0  is =  16.0\n"
     ]
    }
   ],
   "source": [
    "print(\"1. Addition\");\n",
    "print(\"2. Subtraction\");\n",
    "print(\"3. Multiplication\");\n",
    "print(\"4. Division\");\n",
    "print(\"5.Power\");\n",
    "print(\"6. Exit\");\n",
    "choice = int(input(\"Enter your choice: \"));\n",
    "if (choice>=1 and choice<=5):\n",
    "    print(\"Enter two numbers: \");\n",
    "    num1 = float(input());\n",
    "    num2 = float(input());\n",
    "    if choice == 1:\n",
    "        res = num1 + num2;\n",
    "        print(\"Result = \", res);\n",
    "    elif choice == 2:\n",
    "        res = num1 - num2;\n",
    "        print(\"Result = \", res);\n",
    "    elif choice == 3:\n",
    "        res = num1 * num2;\n",
    "        print(\"Result = \", res);\n",
    "    elif choice == 4:\n",
    "        res = num1 / num2;\n",
    "        print(\"Result = \", res);\n",
    "    else:\n",
    "        res=num1**num2\n",
    "        print (num1, \" to the power of \", num2, \" is = \", res)\n",
    "elif choice == 6:\n",
    "    exit();\n",
    "else:\n",
    "    print(\"Wrong input..!!\");"
   ]
  },
  {
   "cell_type": "markdown",
   "metadata": {},
   "source": [
    "#  2. Write a program to check if there is any numeric value in list using for loop"
   ]
  },
  {
   "cell_type": "code",
   "execution_count": 9,
   "metadata": {},
   "outputs": [
    {
     "name": "stdout",
     "output_type": "stream",
     "text": [
      "List contain numeric value\n"
     ]
    }
   ],
   "source": [
    "list_1=['1','abb','2','5','My','8']\n",
    "for i in list_1:\n",
    "    a = i.isnumeric()\n",
    "    if a == True:\n",
    "        print(\"List contain numeric value\")\n",
    "        break\n",
    "    else:\n",
    "        print(\"List not contain any numeric value\")\n",
    "        break"
   ]
  },
  {
   "cell_type": "markdown",
   "metadata": {},
   "source": [
    "# 3. Write a Python script to add a key to a dictionary"
   ]
  },
  {
   "cell_type": "code",
   "execution_count": 10,
   "metadata": {},
   "outputs": [
    {
     "name": "stdout",
     "output_type": "stream",
     "text": [
      "Current Dictionary is:  {'First Name': 'Mohammad', 'Middle Name': 'Furqan'}\n",
      "Updated Dict is:  {'First Name': 'Mohammad', 'Middle Name': 'Furqan', 'Last Name': 'Khurshid'}\n"
     ]
    }
   ],
   "source": [
    "dict = {'First Name':'Mohammad', 'Middle Name':'Furqan'} \n",
    "print(\"Current Dictionary is: \", dict) \n",
    "   \n",
    "dict['Last Name'] = 'Khurshid'\n",
    "print(\"Updated Dict is: \", dict)"
   ]
  },
  {
   "cell_type": "markdown",
   "metadata": {},
   "source": [
    "# 4. Write a Python program to sum all the numeric items in a dictionary"
   ]
  },
  {
   "cell_type": "code",
   "execution_count": 11,
   "metadata": {},
   "outputs": [
    {
     "name": "stdout",
     "output_type": "stream",
     "text": [
      "The sum of numeric items in dictionary  {'a': 100, 'b': 200, 'c': 300} is 600\n"
     ]
    }
   ],
   "source": [
    "dict = {'a': 100, 'b':200, 'c':300}  \n",
    "sum = 0\n",
    "\n",
    "for i in dict.values(): \n",
    "    sum = sum + i\n",
    "\n",
    "print(\"The sum of numeric items in dictionary  {} is {}\".format(dict,sum))"
   ]
  },
  {
   "cell_type": "markdown",
   "metadata": {},
   "source": [
    "# 5. Write a program to identify duplicate values from list"
   ]
  },
  {
   "cell_type": "code",
   "execution_count": 12,
   "metadata": {},
   "outputs": [
    {
     "name": "stdout",
     "output_type": "stream",
     "text": [
      "There are duplicates in this list\n",
      "list of duplicates is :  [3, 9, 12]\n"
     ]
    }
   ],
   "source": [
    "list3 = [ 3, 6, 9, 12, 3, 30, 15, 9, 45, 36, 12, 12]\n",
    "unique = set(list3)  \n",
    "for n in unique:  \n",
    "    count = list3.count(n)  \n",
    "    if count > 1:  \n",
    "        print ('There are duplicates in this list')  \n",
    "        \n",
    "        duplicate = []\n",
    "        uniq = {}\n",
    "        for x in list3:\n",
    "            if x not in uniq:\n",
    "                uniq[x] = 1\n",
    "            else:\n",
    "                if uniq[x] == 1:\n",
    "                    duplicate.append(x)\n",
    "                uniq[x] += 1\n",
    "        print(\"list of duplicates is : \" ,duplicate)\n",
    "        break\n",
    "    else:\n",
    "        print ('There are no duplicates in this list')  \n",
    "        break"
   ]
  },
  {
   "cell_type": "markdown",
   "metadata": {},
   "source": [
    "# 6. Write a Python script to check if a given key already exists in a dictionary"
   ]
  },
  {
   "cell_type": "code",
   "execution_count": 13,
   "metadata": {},
   "outputs": [
    {
     "name": "stdout",
     "output_type": "stream",
     "text": [
      "Enter a key of dictionary :thirty\n",
      "Key is present in the dictionary\n"
     ]
    }
   ],
   "source": [
    "dict2 = {'ten': 10, 'twenty': 20, 'thirty': 30, 'forty': 40, 'fifty': 50, 'sixty': 60}\n",
    "x = input(\"Enter a key of dictionary :\")\n",
    "if x in dict2:\n",
    "    print('Key is present in the dictionary')\n",
    "else:\n",
    "    print('Key is not present in the dictionary')"
   ]
  }
 ],
 "metadata": {
  "kernelspec": {
   "display_name": "Python 3",
   "language": "python",
   "name": "python3"
  },
  "language_info": {
   "codemirror_mode": {
    "name": "ipython",
    "version": 3
   },
   "file_extension": ".py",
   "mimetype": "text/x-python",
   "name": "python",
   "nbconvert_exporter": "python",
   "pygments_lexer": "ipython3",
   "version": "3.7.3"
  }
 },
 "nbformat": 4,
 "nbformat_minor": 2
}
