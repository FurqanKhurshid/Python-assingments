{
 "cells": [
  {
   "cell_type": "code",
   "execution_count": 30,
   "metadata": {},
   "outputs": [
    {
     "name": "stdout",
     "output_type": "stream",
     "text": [
      "b f bfryhryjhrjtrfyjhrfyjhrfd result\n"
     ]
    }
   ],
   "source": [
    "Eng=int(input(\"Enter marks of English=\"))\n",
    "Urdu=int(input(\"Enter marks of Urdu=\"))\n",
    "Phy=int(input(\"Enter marks of Physics=\"))\n",
    "Chem=int(input(\"Enter marks of Chemistry=\"))\n",
    "Maths=int(input(\"Enter marks of Maths=\"))\n",
    "total=Eng+Urdu+Chem+Phy+Maths\n",
    "result = \n",
    "if total>500:\n",
    "    print(\"Your Obtained marks is greater than total marks\")\n",
    "else:\n",
    "    print(\"Your total marks out of 500 is\",total)\n",
    "    per=float((Eng+Urdu+Chem+Phy+Maths)/500)*100\n",
    "    print(\"Your percentage is\",per,\"%\")\n",
    "    if per>=80:\n",
    "        result=\"Your grade is A-one\"\n",
    "    if per>=70 and per<80:\n",
    "        result=\"Your grade is A\"\n",
    "    if per>=60 and per<70:\n",
    "        result=\"Your grade is B\"\n",
    "    if per>=50 and per<60:\n",
    "        result=\"Your grade is C\"\n",
    "    if per<50:\n",
    "        result=\"You are fail\"\n",
    "    print(result)\n",
    "    f=open(\"Marksheet.txt\",\"w+\")\n",
    "    f.write(result)\n",
    "    f.close()\n",
    "\n",
    "\n"
   ]
  },
  {
   "cell_type": "code",
   "execution_count": null,
   "metadata": {},
   "outputs": [],
   "source": []
  },
  {
   "cell_type": "code",
   "execution_count": 16,
   "metadata": {},
   "outputs": [],
   "source": []
  },
  {
   "cell_type": "code",
   "execution_count": null,
   "metadata": {},
   "outputs": [],
   "source": []
  },
  {
   "cell_type": "code",
   "execution_count": null,
   "metadata": {},
   "outputs": [],
   "source": []
  },
  {
   "cell_type": "code",
   "execution_count": null,
   "metadata": {},
   "outputs": [],
   "source": []
  },
  {
   "cell_type": "code",
   "execution_count": null,
   "metadata": {},
   "outputs": [],
   "source": []
  },
  {
   "cell_type": "code",
   "execution_count": null,
   "metadata": {},
   "outputs": [],
   "source": []
  },
  {
   "cell_type": "code",
   "execution_count": null,
   "metadata": {},
   "outputs": [],
   "source": []
  },
  {
   "cell_type": "code",
   "execution_count": null,
   "metadata": {},
   "outputs": [],
   "source": []
  },
  {
   "cell_type": "code",
   "execution_count": null,
   "metadata": {},
   "outputs": [],
   "source": []
  },
  {
   "cell_type": "code",
   "execution_count": null,
   "metadata": {},
   "outputs": [],
   "source": []
  },
  {
   "cell_type": "code",
   "execution_count": null,
   "metadata": {},
   "outputs": [],
   "source": []
  },
  {
   "cell_type": "code",
   "execution_count": null,
   "metadata": {},
   "outputs": [],
   "source": []
  }
 ],
 "metadata": {
  "kernelspec": {
   "display_name": "Python 3",
   "language": "python",
   "name": "python3"
  },
  "language_info": {
   "codemirror_mode": {
    "name": "ipython",
    "version": 3
   },
   "file_extension": ".py",
   "mimetype": "text/x-python",
   "name": "python",
   "nbconvert_exporter": "python",
   "pygments_lexer": "ipython3",
   "version": "3.7.3"
  }
 },
 "nbformat": 4,
 "nbformat_minor": 2
}
